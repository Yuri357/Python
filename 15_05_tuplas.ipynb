{
  "nbformat": 4,
  "nbformat_minor": 0,
  "metadata": {
    "colab": {
      "provenance": [],
      "authorship_tag": "ABX9TyO9VAfxlnP5dr8+7E6r3Vma",
      "include_colab_link": true
    },
    "kernelspec": {
      "name": "python3",
      "display_name": "Python 3"
    },
    "language_info": {
      "name": "python"
    }
  },
  "cells": [
    {
      "cell_type": "markdown",
      "metadata": {
        "id": "view-in-github",
        "colab_type": "text"
      },
      "source": [
        "<a href=\"https://colab.research.google.com/github/Yuri357/Python/blob/main/15_05_tuplas.ipynb\" target=\"_parent\"><img src=\"https://colab.research.google.com/assets/colab-badge.svg\" alt=\"Open In Colab\"/></a>"
      ]
    },
    {
      "cell_type": "code",
      "execution_count": 2,
      "metadata": {
        "colab": {
          "base_uri": "https://localhost:8080/"
        },
        "id": "A3zz5eHcVA6A",
        "outputId": "991d415a-0fe2-40f2-e7b8-66f9b7614acb"
      },
      "outputs": [
        {
          "output_type": "execute_result",
          "data": {
            "text/plain": [
              "('maça', 'banana', 'laranja', 'goiaba')"
            ]
          },
          "metadata": {},
          "execution_count": 2
        }
      ],
      "source": [
        "tp_frutas = ('maça', 'banana', 'laranja', 'goiaba')\n",
        "tp_frutas\n",
        "\n"
      ]
    },
    {
      "cell_type": "code",
      "source": [
        "lst_frutas = list(tp_frutas)\n",
        "type(lst_frutas)\n",
        "lst_frutas"
      ],
      "metadata": {
        "colab": {
          "base_uri": "https://localhost:8080/"
        },
        "id": "wiU-mJQ9WeUG",
        "outputId": "20671638-c008-4e82-91c6-1ab42bb001c2"
      },
      "execution_count": 3,
      "outputs": [
        {
          "output_type": "execute_result",
          "data": {
            "text/plain": [
              "['maça', 'banana', 'laranja', 'goiaba']"
            ]
          },
          "metadata": {},
          "execution_count": 3
        }
      ]
    },
    {
      "cell_type": "code",
      "source": [
        "#Fatiamento (Slicing)\n",
        "tp_meses = ('jan','fev','mar','abr','mai','jun','jul','ago','set','out','nov','dez')\n",
        "# Se quiser apenas os meses de Junho a Nov\n",
        "tp_meses[5:11]"
      ],
      "metadata": {
        "colab": {
          "base_uri": "https://localhost:8080/"
        },
        "id": "AkuJsdQXZCv1",
        "outputId": "0ac05cc8-f2f5-4322-ace8-2313ffc322f6"
      },
      "execution_count": 6,
      "outputs": [
        {
          "output_type": "execute_result",
          "data": {
            "text/plain": [
              "('jun', 'jul', 'ago', 'set', 'out', 'nov')"
            ]
          },
          "metadata": {},
          "execution_count": 6
        }
      ]
    },
    {
      "cell_type": "code",
      "source": [
        "#usando o pocesso de fatiamento, crie uma nova tupla apenas\n",
        "#com os meses do segundo trimestre (Abril - Junho)\n",
        "tp_meses[3:6 ]"
      ],
      "metadata": {
        "colab": {
          "base_uri": "https://localhost:8080/"
        },
        "id": "lOPs6AN8an1i",
        "outputId": "a8f091a1-9aeb-4ffb-d110-792b596f1657"
      },
      "execution_count": 7,
      "outputs": [
        {
          "output_type": "execute_result",
          "data": {
            "text/plain": [
              "('abr', 'mai', 'jun')"
            ]
          },
          "metadata": {},
          "execution_count": 7
        }
      ]
    },
    {
      "cell_type": "code",
      "source": [
        "#Ordenação de dados *sort(value, key = x)\n",
        "#Ordenar os estados pelo DDD e não pelo nome\n",
        "\n",
        "uf_cod = [('PE', 81),('RJ', 21), ('SP', 11), ('PB', 83)]\n",
        "sorted(uf_cod, key = lambda x : x[1])"
      ],
      "metadata": {
        "colab": {
          "base_uri": "https://localhost:8080/"
        },
        "id": "KFaL_Vkkb0Lj",
        "outputId": "2c5955f2-bcf3-4e33-e222-bf712be9a0b5"
      },
      "execution_count": 8,
      "outputs": [
        {
          "output_type": "execute_result",
          "data": {
            "text/plain": [
              "[('SP', 11), ('RJ', 21), ('PE', 81), ('PB', 83)]"
            ]
          },
          "metadata": {},
          "execution_count": 8
        }
      ]
    },
    {
      "cell_type": "code",
      "source": [
        "#Coloque uma tupla a seguir em ordem \n",
        "#do mais novo para o mais velho\n",
        "#do mais velho para o mais novo\n",
        "\n",
        "nome_nasc = [('Zé', 2003),('Maria', 1998),('Alice', 2000)]\n",
        "sorted(nome_nasc, key = lambda x : x[1], reverse = True) #Do mais novo para o mais velho\n",
        "sorte(nome_nasc, key = lambda x : x[1]) #Do mais velho para o mais novo"
      ],
      "metadata": {
        "id": "eN4ssz5KdWSo"
      },
      "execution_count": null,
      "outputs": []
    },
    {
      "cell_type": "code",
      "source": [
        "#Descompacotamento de Valores.\n",
        "def nome_idade_uf():\n",
        "  nome = 'Joé'\n",
        "  idade = 54\n",
        "  uf = 'RN'\n",
        "  return nome, idade, uf\n",
        "\n",
        "name, age, uf, = nome_idade_uf()\n",
        "print(name, age, uf)"
      ],
      "metadata": {
        "colab": {
          "base_uri": "https://localhost:8080/"
        },
        "id": "oHs3DFoRlgnp",
        "outputId": "8f4d74f6-2fc9-4666-db7a-1bb6fe65a668"
      },
      "execution_count": 29,
      "outputs": [
        {
          "output_type": "stream",
          "name": "stdout",
          "text": [
            "Joé 54 RN\n"
          ]
        }
      ]
    },
    {
      "cell_type": "code",
      "source": [
        "#Mapeamento de Valores\n",
        "\n",
        "alunos = ('Kelly', 'Adauto','Marceline', 'Luana', 'Henrique')\n",
        "notas =(5.5, 8, 9, 7.5, 6.5)\n",
        "\n",
        "av1 = tuple(zip(alunos, notas))\n",
        "av1"
      ],
      "metadata": {
        "colab": {
          "base_uri": "https://localhost:8080/"
        },
        "id": "bdCejuBJnYga",
        "outputId": "dff1ef2c-62ce-44ae-878e-b95a86bbd7c9"
      },
      "execution_count": 30,
      "outputs": [
        {
          "output_type": "execute_result",
          "data": {
            "text/plain": [
              "(('Kelly', 5.5),\n",
              " ('Adauto', 8),\n",
              " ('Marceline', 9),\n",
              " ('Luana', 7.5),\n",
              " ('Henrique', 6.5))"
            ]
          },
          "metadata": {},
          "execution_count": 30
        }
      ]
    },
    {
      "cell_type": "code",
      "source": [
        "#1 Escreva uma função que receba duas tuplas como entrada e retorne uma única tupla que seja a concatenação das duas\n",
        "\n",
        "\n",
        "def concatenaTupla(tp1, tp2):\n",
        "  return tp1 + tp2\n",
        "\n",
        "a = (2, 4, 5,)\n",
        "b = (6, 8, 12)\n",
        "concatenaTupla(a, b)\n",
        "  \n"
      ],
      "metadata": {
        "colab": {
          "base_uri": "https://localhost:8080/"
        },
        "id": "1HzX_RMJqmsG",
        "outputId": "0a637219-3528-461e-d92b-67ac3bf2b1c2"
      },
      "execution_count": 34,
      "outputs": [
        {
          "output_type": "execute_result",
          "data": {
            "text/plain": [
              "(2, 4, 5, 6, 8, 12)"
            ]
          },
          "metadata": {},
          "execution_count": 34
        }
      ]
    },
    {
      "cell_type": "code",
      "source": [
        "#2 Escreva uma função que receba uma tupla contendo o nome e endereço:logradouro, número e bairro de uma pessoa e retorne uma string formada\n",
        "\n",
        "def formatada(tupla):\n",
        "  nome, logradouro, num, bairro = tupla\n",
        "  return f'Nome: {nome}, residente a {logradouro}, {num}, {bairro}.'\n",
        "\n",
        "dadosCliente = ('Robson', 'Rua longepkrai', '42', 'Torre')\n",
        "\n",
        "print (formatada(dadosCliente))\n",
        "\n",
        "\n",
        "\n"
      ],
      "metadata": {
        "colab": {
          "base_uri": "https://localhost:8080/"
        },
        "id": "5zw27wwJuGrK",
        "outputId": "6a5d16bc-dcff-4058-9510-b09b6d8d3c65"
      },
      "execution_count": 48,
      "outputs": [
        {
          "output_type": "stream",
          "name": "stdout",
          "text": [
            "Nome: Robson, residente a Rua longepkrai, 42, Torre.\n"
          ]
        }
      ]
    },
    {
      "cell_type": "code",
      "source": [
        "#3 Escreva uma função que receba uma lisa de Tuplas contendo nome e idade de pessoas e retorne a lista ordenada por idade."
      ],
      "metadata": {
        "id": "lzgYOI8_x3Ib"
      },
      "execution_count": null,
      "outputs": []
    }
  ]
}