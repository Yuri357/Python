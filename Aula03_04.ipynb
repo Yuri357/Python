{
  "nbformat": 4,
  "nbformat_minor": 0,
  "metadata": {
    "colab": {
      "provenance": [],
      "authorship_tag": "ABX9TyMXmGUasA3T7GmJF8w4LO0c",
      "include_colab_link": true
    },
    "kernelspec": {
      "name": "python3",
      "display_name": "Python 3"
    },
    "language_info": {
      "name": "python"
    }
  },
  "cells": [
    {
      "cell_type": "markdown",
      "metadata": {
        "id": "view-in-github",
        "colab_type": "text"
      },
      "source": [
        "<a href=\"https://colab.research.google.com/github/Yuri357/Python/blob/main/Aula03_04.ipynb\" target=\"_parent\"><img src=\"https://colab.research.google.com/assets/colab-badge.svg\" alt=\"Open In Colab\"/></a>"
      ]
    },
    {
      "cell_type": "code",
      "execution_count": null,
      "metadata": {
        "colab": {
          "base_uri": "https://localhost:8080/"
        },
        "id": "rxcuRvfIFC1s",
        "outputId": "44d83521-2730-4181-b707-afc3dcbaac7f"
      },
      "outputs": [
        {
          "output_type": "stream",
          "name": "stdout",
          "text": [
            "Digite um numero maior que 1: 1\n",
            "Digite um número maior que 1 \n",
            "Digite um número maior que 1 \n"
          ]
        }
      ],
      "source": [
        "#Pede ao usuário para inserir um número inteiro maior que 1 \n",
        "#O programa deve imprimir todos os números até o número digitado\n",
        "\n",
        "num = int(input('Digite um numero maior que 1: '))\n",
        "cont = 0\n",
        "while(cont <= num):\n",
        "  if(num > 1 ):\n",
        "    print(cont)\n",
        "  else:\n",
        "    print ('Digite um número maior que 1 ')\n",
        "  cont+=1"
      ]
    },
    {
      "cell_type": "code",
      "source": [
        "#Pede ao usuário para inserir um número inteiro maior que 0\n",
        "#O programa deve imprimir as somas até o número digitado\n",
        "\n",
        "num = int(input('Digita um número ai '))\n",
        "cont = 0\n",
        "lista = []\n",
        "while(cont <= num):\n",
        "  lista.append(cont)\n",
        "  cont +=1\n",
        "print(sum(lista)) \n"
      ],
      "metadata": {
        "colab": {
          "base_uri": "https://localhost:8080/"
        },
        "id": "01n6bm6mKxKW",
        "outputId": "9dc83839-c853-4b0f-960e-5027dcf34194"
      },
      "execution_count": null,
      "outputs": [
        {
          "output_type": "stream",
          "name": "stdout",
          "text": [
            "Digita um número ai 9\n",
            "45\n"
          ]
        }
      ]
    },
    {
      "cell_type": "code",
      "source": [
        "#O mesmo do de cima ↥\t↥\t↥\t\n",
        "\n",
        "num = int(input('Digita um número ai '))\n",
        "cont = 0\n",
        "soma = 0\n",
        "while (cont <=num):\n",
        "  soma += cont\n",
        "  cont +=1\n",
        "print (soma)"
      ],
      "metadata": {
        "colab": {
          "base_uri": "https://localhost:8080/"
        },
        "id": "sP_bE76aN47o",
        "outputId": "6e428d26-22b0-4291-c018-055758fa69a8"
      },
      "execution_count": null,
      "outputs": [
        {
          "output_type": "stream",
          "name": "stdout",
          "text": [
            "Digita um número ai 5\n",
            "15\n"
          ]
        }
      ]
    },
    {
      "cell_type": "code",
      "source": [
        "#Pede a senha do usuario. e dá 5 chances para o usuario \n",
        "#inserir a senha correta\n",
        "\n",
        "\n",
        "\n",
        "senha = '15565'\n",
        "senhac = input('Digite sua senha: ')\n",
        "cont = 0\n",
        "\n",
        "while (cont < 3):\n",
        "  cont+=1\n",
        "  if(senhac == senha):\n",
        "   break\n",
        "  else:\n",
        "   print('Senha Errada')\n",
        "   senhac = input('Tente novamente ')\n",
        "\n",
        "if(cont == 3):\n",
        "  print('Sua conta foi bloqueada')\n",
        "else:\n",
        "  print('Seja bem-vindo ')\n",
        "\n",
        "  \n",
        "\n"
      ],
      "metadata": {
        "colab": {
          "base_uri": "https://localhost:8080/"
        },
        "id": "NE0z36V7Oevh",
        "outputId": "adc302b3-8fc2-4497-f112-03c243620437"
      },
      "execution_count": null,
      "outputs": [
        {
          "output_type": "stream",
          "name": "stdout",
          "text": [
            "Digite sua senha: 5\n",
            "Senha Errada\n",
            "Tente novamente 6\n",
            "Senha Errada\n",
            "Tente novamente 4\n",
            "Senha Errada\n",
            "Tente novamente 45\n",
            "Sua conta foi bloqueada\n"
          ]
        }
      ]
    },
    {
      "cell_type": "code",
      "source": [
        "#Testar a entrada do usúario\n",
        "# isdigit() = Verifica se o que foi digitado é um número ou não\n",
        "num = input('Digite um número ')\n",
        "num.isdigit()"
      ],
      "metadata": {
        "colab": {
          "base_uri": "https://localhost:8080/"
        },
        "id": "hC8d7lA5Y8bY",
        "outputId": "51de1e3d-469c-480b-8a0c-6fb1b2ae3cc8"
      },
      "execution_count": null,
      "outputs": [
        {
          "name": "stdout",
          "output_type": "stream",
          "text": [
            "Digite um númeroum\n"
          ]
        },
        {
          "output_type": "execute_result",
          "data": {
            "text/plain": [
              "False"
            ]
          },
          "metadata": {},
          "execution_count": 53
        }
      ]
    },
    {
      "cell_type": "code",
      "source": [
        "#Solicitar que o usúario digite um nome. Caso ele digite um número, avise \"Entrada incorreta\"\n",
        "\n",
        "nome = input('Digite o nome! ')\n",
        "if (nome.isdigit()):\n",
        "  print('Entrada Incorreta! ')\n",
        "else:\n",
        "  (print(f'o nome {nome} foi inserido com sucesso'))  "
      ],
      "metadata": {
        "colab": {
          "base_uri": "https://localhost:8080/"
        },
        "id": "XdqA2OFoaXSc",
        "outputId": "2fdb6c27-98fb-43e8-8ebf-8dc7f58b0333"
      },
      "execution_count": null,
      "outputs": [
        {
          "output_type": "stream",
          "name": "stdout",
          "text": [
            "Digite o nome! 5\n",
            "Entrada Incorreta! \n"
          ]
        }
      ]
    },
    {
      "cell_type": "code",
      "source": [
        "#Solitar que o usuario digite nomes de animais que serao inseridos em uma lista\n",
        "#o programa encerra quando um numero for digitado\n",
        "#ao final, exibe-se na tela a lista de animais\n",
        "\n",
        "animais = []\n",
        "animal = input('Digita um nome de animal: ')\n",
        "\n",
        "\n",
        "while (animal.isdigit() == False ):\n",
        "  animais.append(animal)\n",
        "  animal = input('Digite um nome de animal: ')\n",
        "\n",
        "animais  \n",
        "\n"
      ],
      "metadata": {
        "id": "N4Mfa6nAbHSr"
      },
      "execution_count": null,
      "outputs": []
    },
    {
      "cell_type": "code",
      "source": [
        "cidades = []\n",
        "\n",
        "city = input('Digita a ciade ae morawl: ')\n",
        "\n",
        "while(city != \"Fim\"):\n",
        "  cidades.append(city)\n",
        "  city = input('Digite a cidade moral: ')\n",
        "  up\n",
        "\n",
        "cidades"
      ],
      "metadata": {
        "colab": {
          "base_uri": "https://localhost:8080/"
        },
        "id": "CfdBHbORdbt7",
        "outputId": "a11e5154-e839-4dab-ca0d-052046516b4d"
      },
      "execution_count": null,
      "outputs": [
        {
          "name": "stdout",
          "output_type": "stream",
          "text": [
            "Digita a ciade ae morawl: João Pessoa\n",
            "Digite a cidade moral: São Paulo\n",
            "Digite a cidade moral: Rio de Janeiro\n",
            "Digite a cidade moral: Fim\n"
          ]
        },
        {
          "output_type": "execute_result",
          "data": {
            "text/plain": [
              "['João Pessoa', 'São Paulo', 'Rio de Janeiro']"
            ]
          },
          "metadata": {},
          "execution_count": 60
        }
      ]
    }
  ]
}