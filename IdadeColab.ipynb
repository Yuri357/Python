{
  "nbformat": 4,
  "nbformat_minor": 0,
  "metadata": {
    "colab": {
      "provenance": [],
      "authorship_tag": "ABX9TyOtIazfT+uGZh6qQBBP6QBL",
      "include_colab_link": true
    },
    "kernelspec": {
      "name": "python3",
      "display_name": "Python 3"
    },
    "language_info": {
      "name": "python"
    }
  },
  "cells": [
    {
      "cell_type": "markdown",
      "metadata": {
        "id": "view-in-github",
        "colab_type": "text"
      },
      "source": [
        "<a href=\"https://colab.research.google.com/github/Yuri357/Python/blob/main/IdadeColab.ipynb\" target=\"_parent\"><img src=\"https://colab.research.google.com/assets/colab-badge.svg\" alt=\"Open In Colab\"/></a>"
      ]
    },
    {
      "cell_type": "code",
      "execution_count": null,
      "metadata": {
        "colab": {
          "base_uri": "https://localhost:8080/"
        },
        "id": "-MdNKwMC71d-",
        "outputId": "a3e81721-7781-494c-c18b-74af7fe2feb2"
      },
      "outputs": [
        {
          "output_type": "stream",
          "name": "stdout",
          "text": [
            " Digite a idade do atleta! 15\n",
            "Juvenil\n"
          ]
        }
      ],
      "source": [
        "idade = int (input(' Digite a idade do atleta! '))\n",
        "if(idade < 14):\n",
        "  print ('Infantil')\n",
        "elif(idade <18):\n",
        " print('Juvenil')\n",
        "else:\n",
        " print('Senior')"
      ]
    },
    {
      "cell_type": "code",
      "source": [
        "#Listas são estruturas de dados formadas por elementos\n"
      ],
      "metadata": {
        "id": "YypcdDSP_V9v"
      },
      "execution_count": null,
      "outputs": []
    }
  ]
}