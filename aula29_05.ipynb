{
  "nbformat": 4,
  "nbformat_minor": 0,
  "metadata": {
    "colab": {
      "provenance": [],
      "authorship_tag": "ABX9TyO+6ioo81zMZdOb13ERcan+",
      "include_colab_link": true
    },
    "kernelspec": {
      "name": "python3",
      "display_name": "Python 3"
    },
    "language_info": {
      "name": "python"
    }
  },
  "cells": [
    {
      "cell_type": "markdown",
      "metadata": {
        "id": "view-in-github",
        "colab_type": "text"
      },
      "source": [
        "<a href=\"https://colab.research.google.com/github/Yuri357/Python/blob/main/aula29_05.ipynb\" target=\"_parent\"><img src=\"https://colab.research.google.com/assets/colab-badge.svg\" alt=\"Open In Colab\"/></a>"
      ]
    },
    {
      "cell_type": "code",
      "execution_count": 3,
      "metadata": {
        "colab": {
          "base_uri": "https://localhost:8080/"
        },
        "id": "Md7EBK1pcJeY",
        "outputId": "bf3a2f0a-2007-4c94-9c21-9c48e7aeb290"
      },
      "outputs": [
        {
          "output_type": "execute_result",
          "data": {
            "text/plain": [
              "{'Andre': 8.5,\n",
              " 'ana': 7.0,\n",
              " 'chico': 6.5,\n",
              " 'nubia': 10,\n",
              " 'Luna': 8,\n",
              " 'Julio': 5.5,\n",
              " 'aristides': 6.0,\n",
              " 'sebastiana': 9.5,\n",
              " 'camila': 10,\n",
              " 'joao': 5}"
            ]
          },
          "metadata": {},
          "execution_count": 3
        }
      ],
      "source": [
        "provaA = {'Andre' : 8.5, 'ana' : 7.0, 'chico': 6.5, 'nubia': 10, 'Luna': 8}\n",
        "provaB = {'Julio': 5.5, 'aristides': 6.0, 'sebastiana': 9.5, 'camila': 10, 'joao': 5}\n",
        "\n",
        "resultado_final = {}\n",
        "resultado_final.update(provaA)\n",
        "resultado_final.update(provaB)\n",
        "\n",
        "resultado_final"
      ]
    },
    {
      "cell_type": "code",
      "source": [
        "sorted(resultado_final, key = resultado_final.get, reverse= True)\n",
        "\n",
        "for nome, nota in resultado_final.items():\n",
        "  print (f'nome: {nome} --- nota: {nota}')"
      ],
      "metadata": {
        "colab": {
          "base_uri": "https://localhost:8080/"
        },
        "id": "DDkGqg4WgHl5",
        "outputId": "5eb5e6ab-1655-4c8f-9eb0-9c1ab047355a"
      },
      "execution_count": 16,
      "outputs": [
        {
          "output_type": "stream",
          "name": "stdout",
          "text": [
            "nome: 8.5 --- nota: Andre\n",
            "nome: 7.0 --- nota: ana\n",
            "nome: 6.5 --- nota: chico\n",
            "nome: 10 --- nota: nubia\n",
            "nome: 8 --- nota: Luna\n",
            "nome: 5.5 --- nota: Julio\n",
            "nome: 6.0 --- nota: aristides\n",
            "nome: 9.5 --- nota: sebastiana\n",
            "nome: 10 --- nota: camila\n",
            "nome: 5 --- nota: joao\n"
          ]
        }
      ]
    },
    {
      "cell_type": "code",
      "source": [
        "candidatos = list(resultado_final.keys())\n",
        "candidatos"
      ],
      "metadata": {
        "colab": {
          "base_uri": "https://localhost:8080/"
        },
        "id": "o7vwlSQDhfOf",
        "outputId": "78c7b7c5-70b8-40b6-ec59-6325872e1f4e"
      },
      "execution_count": 21,
      "outputs": [
        {
          "output_type": "execute_result",
          "data": {
            "text/plain": [
              "['Andre',\n",
              " 'ana',\n",
              " 'chico',\n",
              " 'nubia',\n",
              " 'Luna',\n",
              " 'Julio',\n",
              " 'aristides',\n",
              " 'sebastiana',\n",
              " 'camila',\n",
              " 'joao']"
            ]
          },
          "metadata": {},
          "execution_count": 21
        }
      ]
    },
    {
      "cell_type": "code",
      "source": [
        "notas = list(resultado_final.values())\n",
        "notas"
      ],
      "metadata": {
        "colab": {
          "base_uri": "https://localhost:8080/"
        },
        "id": "7STjPcnmifQv",
        "outputId": "d28fb77e-598a-4576-8f42-69ac3238049e"
      },
      "execution_count": 23,
      "outputs": [
        {
          "output_type": "execute_result",
          "data": {
            "text/plain": [
              "[8.5, 7.0, 6.5, 10, 8, 5.5, 6.0, 9.5, 10, 5]"
            ]
          },
          "metadata": {},
          "execution_count": 23
        }
      ]
    },
    {
      "cell_type": "code",
      "source": [
        "def consultaNota (dicNotas, nome):\n",
        "  if nome in dicNotas: \n",
        "    return dicNotas[nome]\n",
        "  else:\n",
        "    return 'Candidato Inexistente'\n"
      ],
      "metadata": {
        "id": "b5NT2YvMi4nf"
      },
      "execution_count": 83,
      "outputs": []
    },
    {
      "cell_type": "code",
      "source": [
        "nomeCandidato = input('Digite seu Nome: ').capitalize()\n",
        "notaCandidato = consultaNota(resultado_final, nomeCandidato)\n",
        "print (notaCandidato)"
      ],
      "metadata": {
        "colab": {
          "base_uri": "https://localhost:8080/"
        },
        "id": "cVFltS0op5NB",
        "outputId": "5bb9c22e-dc21-4937-9162-e116535bd411"
      },
      "execution_count": 90,
      "outputs": [
        {
          "output_type": "stream",
          "name": "stdout",
          "text": [
            "Digite seu Nome: julio\n",
            "5.5\n"
          ]
        }
      ]
    }
  ]
}