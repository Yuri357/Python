{
  "nbformat": 4,
  "nbformat_minor": 0,
  "metadata": {
    "colab": {
      "provenance": [],
      "authorship_tag": "ABX9TyN+G9PlkXfBbhetV01b6d+H",
      "include_colab_link": true
    },
    "kernelspec": {
      "name": "python3",
      "display_name": "Python 3"
    },
    "language_info": {
      "name": "python"
    }
  },
  "cells": [
    {
      "cell_type": "markdown",
      "metadata": {
        "id": "view-in-github",
        "colab_type": "text"
      },
      "source": [
        "<a href=\"https://colab.research.google.com/github/Yuri357/Python/blob/main/Fun%C3%A7%C3%B5es.ipynb\" target=\"_parent\"><img src=\"https://colab.research.google.com/assets/colab-badge.svg\" alt=\"Open In Colab\"/></a>"
      ]
    },
    {
      "cell_type": "code",
      "execution_count": null,
      "metadata": {
        "id": "QqDSdfXLHY3X"
      },
      "outputs": [],
      "source": [
        "#Declaração de função\n",
        "\n",
        "def my_first_function():\n",
        "  print ('Minha primeira função')"
      ]
    },
    {
      "cell_type": "code",
      "source": [
        "#Chamando um função\n",
        "\n",
        "my_first_function()"
      ],
      "metadata": {
        "colab": {
          "base_uri": "https://localhost:8080/"
        },
        "id": "v6nzaY_IHzwR",
        "outputId": "77061d1a-8bbb-428e-b219-934f71fba30e"
      },
      "execution_count": null,
      "outputs": [
        {
          "output_type": "stream",
          "name": "stdout",
          "text": [
            "ROGER\n"
          ]
        }
      ]
    },
    {
      "cell_type": "code",
      "source": [
        "def pronomeTratam(pronome):\n",
        "  print(pronome, \"Yuri\")"
      ],
      "metadata": {
        "id": "1QJxNM13Ie7P"
      },
      "execution_count": null,
      "outputs": []
    },
    {
      "cell_type": "code",
      "source": [
        "pronomeTratam('Doutor')\n",
        "pronomeTratam('Ilmo')\n",
        "pronomeTratam('Seu')"
      ],
      "metadata": {
        "colab": {
          "base_uri": "https://localhost:8080/"
        },
        "id": "EXMcCA9FIu4Y",
        "outputId": "23aaed63-e60a-4476-f46e-814e44cc5cfa"
      },
      "execution_count": null,
      "outputs": [
        {
          "output_type": "stream",
          "name": "stdout",
          "text": [
            "Doutor Yuri\n",
            "Ilmo Yuri\n",
            "Seu Yuri\n"
          ]
        }
      ]
    },
    {
      "cell_type": "code",
      "source": [
        "def tratamenNome(pronome, nome):\n",
        "  print(pronome, nome)\n",
        "  \n"
      ],
      "metadata": {
        "id": "w4bT9vfpJ3ON"
      },
      "execution_count": null,
      "outputs": []
    },
    {
      "cell_type": "code",
      "source": [
        "tratamenNome('Dr', 'Cleiton')"
      ],
      "metadata": {
        "colab": {
          "base_uri": "https://localhost:8080/"
        },
        "id": "BnsSyzU3KQEC",
        "outputId": "2438c0f6-3701-4d48-f613-e2b6e3adeaf5"
      },
      "execution_count": null,
      "outputs": [
        {
          "output_type": "stream",
          "name": "stdout",
          "text": [
            "Dr Cleiton\n"
          ]
        }
      ]
    },
    {
      "cell_type": "code",
      "source": [
        "#Pedir o nome e o ano que nasceu\n",
        "\n",
        "def nomeNascimento(nome, ano):\n",
        "  idade = 2023 - ano\n",
        "  print(nome, idade, 'anos')\n",
        "\n"
      ],
      "metadata": {
        "id": "hcgrkF93K2wG"
      },
      "execution_count": null,
      "outputs": []
    },
    {
      "cell_type": "code",
      "source": [
        "nomeNascimento('Yuri',2004)"
      ],
      "metadata": {
        "colab": {
          "base_uri": "https://localhost:8080/"
        },
        "id": "i7ZuT5tULUcw",
        "outputId": "b095760d-981f-46db-e3e3-13391c84efad"
      },
      "execution_count": null,
      "outputs": [
        {
          "output_type": "stream",
          "name": "stdout",
          "text": [
            "Yuri 19 anos\n"
          ]
        }
      ]
    },
    {
      "cell_type": "code",
      "source": [
        "#Função que recebe a altura e peso e retorna o IMC:\n",
        "#Fórmula IMC: Peso/altura²\n",
        "\n",
        "def imc(peso, altura):\n",
        "  print(peso/altura**2)"
      ],
      "metadata": {
        "id": "0DO-VbnyN9EM"
      },
      "execution_count": null,
      "outputs": []
    },
    {
      "cell_type": "code",
      "source": [
        "imc(43, 1.65)\n"
      ],
      "metadata": {
        "colab": {
          "base_uri": "https://localhost:8080/"
        },
        "id": "Z_VYkgzJPMOQ",
        "outputId": "f3074f96-12b3-4a7b-e84f-fa4aa8113c00"
      },
      "execution_count": null,
      "outputs": [
        {
          "output_type": "execute_result",
          "data": {
            "text/plain": [
              "15.794306703397615"
            ]
          },
          "metadata": {},
          "execution_count": 77
        }
      ]
    },
    {
      "cell_type": "code",
      "source": [
        "def imc(peso, altura):\n",
        "  return peso/altura**2\n",
        "  "
      ],
      "metadata": {
        "id": "Smqz6XEQQz5y"
      },
      "execution_count": null,
      "outputs": []
    },
    {
      "cell_type": "code",
      "source": [
        "imc(44, 1.65) < 30"
      ],
      "metadata": {
        "colab": {
          "base_uri": "https://localhost:8080/"
        },
        "id": "0uGKkSd1Q83u",
        "outputId": "77135a5e-1182-45bf-8466-c0ba3dbc120c"
      },
      "execution_count": null,
      "outputs": [
        {
          "output_type": "execute_result",
          "data": {
            "text/plain": [
              "True"
            ]
          },
          "metadata": {},
          "execution_count": 75
        }
      ]
    },
    {
      "cell_type": "code",
      "source": [
        "#O calculo de juros simples é dado pela formula:\n",
        "# J = C * i *t\n",
        "#Sendo:\n",
        "# J = Juros Simples\n",
        "# C = Capital Inicial\n",
        "# i = taxa de juros\n",
        "# tempo de aplicação\n",
        "# Crie uma função que recebe um valor de emprestimo e o\n",
        "#tempo e retorne quanto será pago de juros ao final do periodo\n",
        "#use uma taxa de 2,5%\n",
        "\n",
        "def calcSimple(valor, tempo):\n",
        "  return valor * 0.025 * tempo\n",
        "\n",
        "   \n"
      ],
      "metadata": {
        "id": "a14uDDLAaWBo"
      },
      "execution_count": null,
      "outputs": []
    },
    {
      "cell_type": "code",
      "source": [
        "calcSimple(1000, 5)"
      ],
      "metadata": {
        "colab": {
          "base_uri": "https://localhost:8080/"
        },
        "id": "eXFobgMqc_xk",
        "outputId": "9f447670-0f01-4be7-e150-02100bfbf2bd"
      },
      "execution_count": null,
      "outputs": [
        {
          "output_type": "execute_result",
          "data": {
            "text/plain": [
              "125.0"
            ]
          },
          "metadata": {},
          "execution_count": 87
        }
      ]
    },
    {
      "cell_type": "code",
      "source": [
        "def valorTotalEmprestimo(valor, tempo):\n",
        "  return valor + calcSimple(valor, tempo)"
      ],
      "metadata": {
        "id": "wxvfE4IYdiA8"
      },
      "execution_count": null,
      "outputs": []
    },
    {
      "cell_type": "code",
      "source": [
        "valorTotalEmprestimo(1000, 12)"
      ],
      "metadata": {
        "colab": {
          "base_uri": "https://localhost:8080/"
        },
        "id": "UgMJ2YZvd9Bg",
        "outputId": "51cad3ec-9dda-4489-ce3e-0add0b9db832"
      },
      "execution_count": null,
      "outputs": [
        {
          "output_type": "execute_result",
          "data": {
            "text/plain": [
              "1300.0"
            ]
          },
          "metadata": {},
          "execution_count": 90
        }
      ]
    },
    {
      "cell_type": "code",
      "source": [
        "calcSimple()"
      ],
      "metadata": {
        "id": "sMfRBXjbd0G8"
      },
      "execution_count": null,
      "outputs": []
    }
  ]
}