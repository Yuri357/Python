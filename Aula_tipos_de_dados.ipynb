{
  "nbformat": 4,
  "nbformat_minor": 0,
  "metadata": {
    "colab": {
      "provenance": [],
      "authorship_tag": "ABX9TyMXmZg63t3uC+NW7xdmqtAr",
      "include_colab_link": true
    },
    "kernelspec": {
      "name": "python3",
      "display_name": "Python 3"
    },
    "language_info": {
      "name": "python"
    }
  },
  "cells": [
    {
      "cell_type": "markdown",
      "metadata": {
        "id": "view-in-github",
        "colab_type": "text"
      },
      "source": [
        "<a href=\"https://colab.research.google.com/github/Yuri357/Python/blob/main/Aula_tipos_de_dados.ipynb\" target=\"_parent\"><img src=\"https://colab.research.google.com/assets/colab-badge.svg\" alt=\"Open In Colab\"/></a>"
      ]
    },
    {
      "cell_type": "code",
      "execution_count": null,
      "metadata": {
        "colab": {
          "base_uri": "https://localhost:8080/"
        },
        "id": "TRgx1K_X_zx7",
        "outputId": "c8dda138-2082-4c51-b7b3-d6a9e24736ab"
      },
      "outputs": [
        {
          "output_type": "stream",
          "name": "stdout",
          "text": [
            "Meu primeiro notebook\n"
          ]
        }
      ],
      "source": [
        "print('Meu primeiro notebook')"
      ]
    },
    {
      "cell_type": "code",
      "source": [
        "nome = 'Yuri Vitório'\n",
        "print(nome)"
      ],
      "metadata": {
        "colab": {
          "base_uri": "https://localhost:8080/"
        },
        "id": "eBLjPk7vCVFf",
        "outputId": "833b82b1-f2b6-43ca-bae7-0effcb01d72c"
      },
      "execution_count": null,
      "outputs": [
        {
          "output_type": "stream",
          "name": "stdout",
          "text": [
            "Yuri Vitório\n"
          ]
        }
      ]
    },
    {
      "cell_type": "code",
      "source": [
        "#Descobrir tipo de variável\n",
        "type(nome)"
      ],
      "metadata": {
        "colab": {
          "base_uri": "https://localhost:8080/"
        },
        "id": "k_3v2hluCmKX",
        "outputId": "9576eb28-adeb-4ffc-9ded-3abdb5d876ff"
      },
      "execution_count": null,
      "outputs": [
        {
          "output_type": "execute_result",
          "data": {
            "text/plain": [
              "str"
            ]
          },
          "metadata": {},
          "execution_count": 5
        }
      ]
    },
    {
      "cell_type": "code",
      "source": [
        "a = 100\n",
        "b = 25.6\n",
        "c = a > b\n",
        "d = 'Chimpanze'"
      ],
      "metadata": {
        "id": "v9YBQyqcC7FM"
      },
      "execution_count": null,
      "outputs": []
    },
    {
      "cell_type": "code",
      "source": [
        "type (a)"
      ],
      "metadata": {
        "colab": {
          "base_uri": "https://localhost:8080/"
        },
        "id": "1NJM1UbPEfyN",
        "outputId": "cafa1c35-64f3-49c6-8172-e4e0c38f368c"
      },
      "execution_count": null,
      "outputs": [
        {
          "output_type": "execute_result",
          "data": {
            "text/plain": [
              "int"
            ]
          },
          "metadata": {},
          "execution_count": 12
        }
      ]
    },
    {
      "cell_type": "code",
      "source": [
        "type (b)"
      ],
      "metadata": {
        "colab": {
          "base_uri": "https://localhost:8080/"
        },
        "id": "en22Uq-6EqvM",
        "outputId": "431014a9-a305-45ad-f7c8-db44fa5bce9d"
      },
      "execution_count": null,
      "outputs": [
        {
          "output_type": "execute_result",
          "data": {
            "text/plain": [
              "float"
            ]
          },
          "metadata": {},
          "execution_count": 14
        }
      ]
    },
    {
      "cell_type": "code",
      "source": [
        "type (c)"
      ],
      "metadata": {
        "colab": {
          "base_uri": "https://localhost:8080/"
        },
        "id": "RIp19VHWEs28",
        "outputId": "dcafadf9-2831-489c-d44f-c87b39b061cf"
      },
      "execution_count": null,
      "outputs": [
        {
          "output_type": "stream",
          "name": "stdout",
          "text": [
            "True\n"
          ]
        }
      ]
    },
    {
      "cell_type": "code",
      "source": [
        "type (d)"
      ],
      "metadata": {
        "colab": {
          "base_uri": "https://localhost:8080/"
        },
        "id": "0Cfr7cj7J-30",
        "outputId": "9aaaa7ac-2df4-44c7-b6eb-5af25b3c7b11"
      },
      "execution_count": null,
      "outputs": [
        {
          "output_type": "execute_result",
          "data": {
            "text/plain": [
              "str"
            ]
          },
          "metadata": {},
          "execution_count": 15
        }
      ]
    },
    {
      "cell_type": "markdown",
      "source": [
        "Tipos de dados Booleanos"
      ],
      "metadata": {
        "id": "RRi8YPNsK0nx"
      }
    },
    {
      "cell_type": "code",
      "source": [
        "a = 100 < 200\n",
        "b = 85 == 5\n",
        "c = 'pablo' == 'Ramon'\n",
        "d = 25 == '25'\n",
        "e = 30 ==(6*5)\n",
        "f = 'Flamengo' != 'Vasco'"
      ],
      "metadata": {
        "id": "hZ00nFAbK5X8"
      },
      "execution_count": null,
      "outputs": []
    },
    {
      "cell_type": "code",
      "source": [
        "print(a)\n",
        "print(b)\n",
        "print(c)\n",
        "print(d)\n",
        "print(e)\n",
        "print(f)"
      ],
      "metadata": {
        "colab": {
          "base_uri": "https://localhost:8080/"
        },
        "id": "5AMElcIXLD-2",
        "outputId": "46b84f24-ad77-47f3-93d4-8d93403cbaf8"
      },
      "execution_count": null,
      "outputs": [
        {
          "output_type": "stream",
          "name": "stdout",
          "text": [
            "True\n",
            "False\n",
            "False\n",
            "False\n",
            "True\n",
            "True\n"
          ]
        }
      ]
    },
    {
      "cell_type": "code",
      "source": [
        "notaAprovacao = 7.0\n",
        "notaWalison = 3.0\n",
        "print(notaAprovacao < notaWalison)"
      ],
      "metadata": {
        "colab": {
          "base_uri": "https://localhost:8080/"
        },
        "id": "G69AbosrLQPg",
        "outputId": "08cfce04-5c04-4ecb-d930-b2c0b1e1b63d"
      },
      "execution_count": null,
      "outputs": [
        {
          "output_type": "stream",
          "name": "stdout",
          "text": [
            "False\n"
          ]
        }
      ]
    },
    {
      "cell_type": "code",
      "source": [
        "if(notaWalison >= 7.0):\n",
        " print('Aprovado')\n",
        "elif(notaWalison >=4 and notaWalison <7):\n",
        " print('Recuperação')\n",
        "else:\n",
        "  print('Reprovado')\n"
      ],
      "metadata": {
        "colab": {
          "base_uri": "https://localhost:8080/"
        },
        "id": "L9k7Exd0N2_t",
        "outputId": "b78ae03c-ecf4-42e4-be60-309fc1654c83"
      },
      "execution_count": null,
      "outputs": [
        {
          "output_type": "stream",
          "name": "stdout",
          "text": [
            "Reprovado\n"
          ]
        }
      ]
    },
    {
      "cell_type": "code",
      "source": [
        "if(notaWalison < 4):\n",
        "  print('Reprovado')\n",
        "elif(notaWalison < 7):\n",
        "  print('Recuperação')\n",
        "else:\n",
        "  print('Aprovado')  "
      ],
      "metadata": {
        "colab": {
          "base_uri": "https://localhost:8080/"
        },
        "id": "c6N-QzW5TNHX",
        "outputId": "f3c52147-027c-431d-8075-410c2b824aaf"
      },
      "execution_count": null,
      "outputs": [
        {
          "output_type": "stream",
          "name": "stdout",
          "text": [
            "Reprovado\n"
          ]
        }
      ]
    },
    {
      "cell_type": "markdown",
      "source": [
        "input de dados no Pyton"
      ],
      "metadata": {
        "id": "GefOHwVOUXnO"
      }
    },
    {
      "cell_type": "code",
      "source": [
        "nota1 = input('Digite a nota, pae! ')\n",
        "nota2 = input('Digite a nota2, pae! ')\n",
        "print(nota1+nota2)"
      ],
      "metadata": {
        "colab": {
          "base_uri": "https://localhost:8080/"
        },
        "id": "6SA4u7ZTUaXh",
        "outputId": "e4eade26-684b-4702-9ae4-3c629a7c23dc"
      },
      "execution_count": null,
      "outputs": [
        {
          "output_type": "stream",
          "name": "stdout",
          "text": [
            "Digite a nota, pae! 5\n",
            "Digite a nota2, pae! 9\n",
            "59\n"
          ]
        }
      ]
    },
    {
      "cell_type": "code",
      "source": [
        "#O velho e bom PARSE\n",
        "\n",
        "nota1 = float(input('Digite a nota, pae! '))\n",
        "nota2 = float(input('Digite a nota2, pae! '))\n",
        "nota3 = float(input('Digite a nota3, pae! '))\n",
        "media = (nota1 + nota2+ nota3)/3\n",
        "print(media)"
      ],
      "metadata": {
        "colab": {
          "base_uri": "https://localhost:8080/"
        },
        "id": "8504YSTBVFjp",
        "outputId": "31e8a8fc-174a-4adb-e155-9a0c9c7e2dd1"
      },
      "execution_count": null,
      "outputs": [
        {
          "output_type": "stream",
          "name": "stdout",
          "text": [
            "Digite a nota, pae! 8\n",
            "Digite a nota2, pae! 9\n",
            "Digite a nota3, pae! 4\n",
            "7.0\n"
          ]
        }
      ]
    }
  ]
}