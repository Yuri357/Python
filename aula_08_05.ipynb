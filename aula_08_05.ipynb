{
  "nbformat": 4,
  "nbformat_minor": 0,
  "metadata": {
    "colab": {
      "provenance": [],
      "authorship_tag": "ABX9TyOEV4EFVNAQAxFnVu4zYoZr",
      "include_colab_link": true
    },
    "kernelspec": {
      "name": "python3",
      "display_name": "Python 3"
    },
    "language_info": {
      "name": "python"
    }
  },
  "cells": [
    {
      "cell_type": "markdown",
      "metadata": {
        "id": "view-in-github",
        "colab_type": "text"
      },
      "source": [
        "<a href=\"https://colab.research.google.com/github/Yuri357/Python/blob/main/aula_08_05.ipynb\" target=\"_parent\"><img src=\"https://colab.research.google.com/assets/colab-badge.svg\" alt=\"Open In Colab\"/></a>"
      ]
    },
    {
      "cell_type": "code",
      "execution_count": null,
      "metadata": {
        "id": "XT-pvIABbUFe"
      },
      "outputs": [],
      "source": [
        "#Criando listas\n",
        "lista_vazia = []\n",
        "\n",
        "#Lista com elementos.\n",
        "lista_com_coisas = [2,4,3,'Zé', 'Mané']"
      ]
    },
    {
      "cell_type": "code",
      "source": [
        "#Acessando Elementos da lista\n",
        "lista = [1,2,3, 'quatro', 'cinco']\n",
        "\n",
        "print(lista[0])  # 1 \n",
        "print(lista[3])  # \"Quatro\"\n",
        "print(lista[-1])  # \"cinco\"\n",
        " \n"
      ],
      "metadata": {
        "colab": {
          "base_uri": "https://localhost:8080/"
        },
        "id": "_-_idD5ebjcW",
        "outputId": "ca1dc88d-9d82-432a-a0d3-40705a8023d1"
      },
      "execution_count": 3,
      "outputs": [
        {
          "output_type": "stream",
          "name": "stdout",
          "text": [
            "1\n",
            "quatro\n",
            "cinco\n"
          ]
        }
      ]
    },
    {
      "cell_type": "code",
      "source": [
        "nomes = [ 'ze', 'tiao', 'joaquim']\n",
        "nomes.append ('Julia')\n",
        "nomes\n",
        "\n",
        "#varios valores\n",
        "outrosNomes = ['Ana', 'Zabé', 'Maria']\n",
        "nomes.extend(outrosNomes)\n",
        "nomes"
      ],
      "metadata": {
        "colab": {
          "base_uri": "https://localhost:8080/"
        },
        "id": "TUzgJkslcavd",
        "outputId": "196c7eeb-f45c-42b1-8d8f-1c0537da39c3"
      },
      "execution_count": 7,
      "outputs": [
        {
          "output_type": "execute_result",
          "data": {
            "text/plain": [
              "['ze', 'tiao', 'joaquim', 'Julia', 'Ana', 'Zabé', 'Maria']"
            ]
          },
          "metadata": {},
          "execution_count": 7
        }
      ]
    },
    {
      "cell_type": "code",
      "source": [
        "#Crie uma lista de numeros e \n",
        "numeros = [2,4,1,6,9,12]\n",
        "#remova o primeiro elemento da lista\n",
        "numeros.remove(numeros[0])\n",
        "#remova o ultimo elemento da lista\n",
        "numeros.pop()\n",
        "numeros"
      ],
      "metadata": {
        "colab": {
          "base_uri": "https://localhost:8080/"
        },
        "id": "ZnSVNPwhdm3r",
        "outputId": "ec6ffa1e-9f8b-4242-e286-572e3c4b174c"
      },
      "execution_count": 13,
      "outputs": [
        {
          "output_type": "execute_result",
          "data": {
            "text/plain": [
              "[4, 1, 6, 9]"
            ]
          },
          "metadata": {},
          "execution_count": 13
        }
      ]
    },
    {
      "cell_type": "code",
      "source": [
        "#MAP map (função, iteravel)\n",
        "nums = [1,3,4,8,9]\n",
        "newList = list(map(lambda x: x*2, nums))\n",
        "newList"
      ],
      "metadata": {
        "colab": {
          "base_uri": "https://localhost:8080/"
        },
        "id": "9d9gUA5VefwL",
        "outputId": "f66b1aff-136a-437c-c142-c23746ae8839"
      },
      "execution_count": 15,
      "outputs": [
        {
          "output_type": "execute_result",
          "data": {
            "text/plain": [
              "[2, 6, 8, 16, 18]"
            ]
          },
          "metadata": {},
          "execution_count": 15
        }
      ]
    },
    {
      "cell_type": "code",
      "source": [
        "#Recebe os valores de uma lista númerica e\n",
        "#retorna o quadrado de cada número\n",
        "\n",
        "nums2 = [6,5,7,8,1,4,69]\n",
        "newList2 = list(map(lambda nums2: nums2*nums2, nums2))\n",
        "newList2\n"
      ],
      "metadata": {
        "colab": {
          "base_uri": "https://localhost:8080/"
        },
        "id": "GZgnT2SvoOa6",
        "outputId": "94dbf604-5fb5-447e-9918-afad95a3b19c"
      },
      "execution_count": 17,
      "outputs": [
        {
          "output_type": "execute_result",
          "data": {
            "text/plain": [
              "[36, 25, 49, 64, 1, 16, 4761]"
            ]
          },
          "metadata": {},
          "execution_count": 17
        }
      ]
    },
    {
      "cell_type": "code",
      "source": [
        "frutas = ['Banana', 'pera', 'uva', 'cajá', 'manga']\n"
      ],
      "metadata": {
        "id": "VC0JUkDfrK50"
      },
      "execution_count": 19,
      "outputs": []
    },
    {
      "cell_type": "code",
      "source": [
        "#Recebe uma lista de frutas e\n",
        "#Retorna uma lista com a quantidade de caracteres.\n",
        "\n",
        "newlist = list(map(lambda x: len(x), frutas))\n",
        "newlist"
      ],
      "metadata": {
        "colab": {
          "base_uri": "https://localhost:8080/"
        },
        "id": "585WJK5Rrl3M",
        "outputId": "aabbf108-77ea-4fe4-9356-c5a8a961ce61"
      },
      "execution_count": 21,
      "outputs": [
        {
          "output_type": "execute_result",
          "data": {
            "text/plain": [
              "[6, 4, 3, 4, 5]"
            ]
          },
          "metadata": {},
          "execution_count": 21
        }
      ]
    },
    {
      "cell_type": "code",
      "source": [
        "#pegar os preços de uma lista\n",
        "#adicionar 2 a cada um deles\n",
        "\n",
        "precos = [2.99, 4.66, 5.00, 3.45]\n",
        "newlist = list(map(lambda x: x+2, precos))\n",
        "newlist "
      ],
      "metadata": {
        "colab": {
          "base_uri": "https://localhost:8080/"
        },
        "id": "wTtuZ3Acth-3",
        "outputId": "cef9f350-6689-42dc-9827-ae02cb12b54e"
      },
      "execution_count": 22,
      "outputs": [
        {
          "output_type": "execute_result",
          "data": {
            "text/plain": [
              "[4.99, 6.66, 7.0, 5.45]"
            ]
          },
          "metadata": {},
          "execution_count": 22
        }
      ]
    }
  ]
}