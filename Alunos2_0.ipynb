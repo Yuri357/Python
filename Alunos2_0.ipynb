{
  "nbformat": 4,
  "nbformat_minor": 0,
  "metadata": {
    "colab": {
      "provenance": [],
      "toc_visible": true,
      "authorship_tag": "ABX9TyOyGgXfTR1y+EPQhQFnGmbb",
      "include_colab_link": true
    },
    "kernelspec": {
      "name": "python3",
      "display_name": "Python 3"
    },
    "language_info": {
      "name": "python"
    }
  },
  "cells": [
    {
      "cell_type": "markdown",
      "metadata": {
        "id": "view-in-github",
        "colab_type": "text"
      },
      "source": [
        "<a href=\"https://colab.research.google.com/github/Yuri357/Python/blob/main/Alunos2_0.ipynb\" target=\"_parent\"><img src=\"https://colab.research.google.com/assets/colab-badge.svg\" alt=\"Open In Colab\"/></a>"
      ]
    },
    {
      "cell_type": "code",
      "execution_count": null,
      "metadata": {
        "id": "aOYvqUys_gaF"
      },
      "outputs": [],
      "source": [
        "#Listas são estruturas de dados formadas por elementos\n",
        "num = [1, 4, 3, 6,]"
      ]
    },
    {
      "cell_type": "code",
      "source": [
        "#Tamanho de uma lista\n",
        "len (num)"
      ],
      "metadata": {
        "colab": {
          "base_uri": "https://localhost:8080/"
        },
        "id": "S2ZfqmJ8BSaS",
        "outputId": "7a8ff41a-ee1b-42c1-cf53-c1d3c27bc359"
      },
      "execution_count": null,
      "outputs": [
        {
          "output_type": "execute_result",
          "data": {
            "text/plain": [
              "4"
            ]
          },
          "metadata": {},
          "execution_count": 24
        }
      ]
    },
    {
      "cell_type": "code",
      "source": [
        "num[3]"
      ],
      "metadata": {
        "colab": {
          "base_uri": "https://localhost:8080/"
        },
        "id": "NVcZNVZvCZrI",
        "outputId": "338fb1a9-37cd-4fe3-bd42-d8d0c4feb832"
      },
      "execution_count": null,
      "outputs": [
        {
          "output_type": "execute_result",
          "data": {
            "text/plain": [
              "6"
            ]
          },
          "metadata": {},
          "execution_count": 27
        }
      ]
    },
    {
      "cell_type": "code",
      "source": [
        "#A ordenação das listas têm índice que inicia em 0, e vai até\n",
        "print(num[0])\n",
        "print(num[1])\n",
        "print(num[2])\n",
        "print(num[3]) #fora do indice\n"
      ],
      "metadata": {
        "colab": {
          "base_uri": "https://localhost:8080/"
        },
        "id": "Gz4fCmzZCNKj",
        "outputId": "02d39926-b167-4f35-ccf4-fc23de2274c9"
      },
      "execution_count": null,
      "outputs": [
        {
          "output_type": "stream",
          "name": "stdout",
          "text": [
            "1\n",
            "4\n",
            "3\n",
            "6\n"
          ]
        }
      ]
    },
    {
      "cell_type": "code",
      "source": [
        "#listas de outros tipos\n",
        "alunos = ['Mariana','João', 'Pedro', 'Yuri', 'Cleiton']\n",
        "alunos[3]\n"
      ],
      "metadata": {
        "colab": {
          "base_uri": "https://localhost:8080/",
          "height": 35
        },
        "id": "U5HJe1eUDVOa",
        "outputId": "b6dc0740-cc8b-4e51-ec7a-3d1e668e72c3"
      },
      "execution_count": null,
      "outputs": [
        {
          "output_type": "execute_result",
          "data": {
            "text/plain": [
              "'Yuri'"
            ],
            "application/vnd.google.colaboratory.intrinsic+json": {
              "type": "string"
            }
          },
          "metadata": {},
          "execution_count": 73
        }
      ]
    },
    {
      "cell_type": "code",
      "source": [
        "#Alterar o valores de itens de lista\n",
        "alunos[3] = 'Ivan'\n",
        "alunos"
      ],
      "metadata": {
        "colab": {
          "base_uri": "https://localhost:8080/"
        },
        "id": "u66EybTVFPkV",
        "outputId": "eced0317-30fb-479f-cfa3-ad31703fd8eb"
      },
      "execution_count": null,
      "outputs": [
        {
          "output_type": "execute_result",
          "data": {
            "text/plain": [
              "['Mariana', 'Luiz', 'João', 'Ivan', 'Yuri', 'Cleiton']"
            ]
          },
          "metadata": {},
          "execution_count": 58
        }
      ]
    },
    {
      "cell_type": "code",
      "source": [
        "#Inserir valores na lista .append\n",
        "alunos.append('Alex')\n",
        "alunos"
      ],
      "metadata": {
        "colab": {
          "base_uri": "https://localhost:8080/"
        },
        "id": "Y0c7e4R8FaFB",
        "outputId": "3f72ad6d-6a25-4d31-e5dc-34074cb0fd0f"
      },
      "execution_count": null,
      "outputs": [
        {
          "output_type": "execute_result",
          "data": {
            "text/plain": [
              "['Mariana', 'Luiz', 'João', 'Pedro', 'Yuri', 'Cleiton', 'Alex']"
            ]
          },
          "metadata": {},
          "execution_count": 65
        }
      ]
    },
    {
      "cell_type": "code",
      "source": [
        "alunos.append(input(' Digite seu nome '))"
      ],
      "metadata": {
        "colab": {
          "base_uri": "https://localhost:8080/"
        },
        "id": "2fUaiL4-GEuG",
        "outputId": "d2de01a4-da07-4357-a21e-5f609f137e7e"
      },
      "execution_count": null,
      "outputs": [
        {
          "name": "stdout",
          "output_type": "stream",
          "text": [
            " Digite seu nome Luiz\n"
          ]
        }
      ]
    },
    {
      "cell_type": "code",
      "source": [
        "alunos"
      ],
      "metadata": {
        "colab": {
          "base_uri": "https://localhost:8080/"
        },
        "id": "GWsKpowJGUnx",
        "outputId": "0195533e-6edf-43f3-b011-d54d233b3832"
      },
      "execution_count": null,
      "outputs": [
        {
          "output_type": "execute_result",
          "data": {
            "text/plain": [
              "['Mariana', 'João', 'Pedro', 'Yuri', 'Cleiton', 'Luiz']"
            ]
          },
          "metadata": {},
          "execution_count": 76
        }
      ]
    },
    {
      "cell_type": "code",
      "source": [
        "#Descobrir se há um valor determinado na lista, exebir sua posição\n",
        "if 'Luiz' in alunos:\n",
        "  print('Tem Luiz SIMM')\n",
        "else:\n",
        "   print('Tem Luiz NÃOO')\n"
      ],
      "metadata": {
        "colab": {
          "base_uri": "https://localhost:8080/"
        },
        "id": "JqajfWZtM2pj",
        "outputId": "3f6c857c-34de-49ce-8164-30b9785bf80f"
      },
      "execution_count": null,
      "outputs": [
        {
          "output_type": "stream",
          "name": "stdout",
          "text": [
            "Tem Luiz SIMM\n"
          ]
        }
      ]
    },
    {
      "cell_type": "code",
      "source": [
        "nome = input ('Digite seu nome ')\n",
        "if nome in alunos:\n",
        "  print(' Tem ', nome)\n",
        "else:\n",
        "  print(' Não tem ', nome)\n",
        "  "
      ],
      "metadata": {
        "colab": {
          "base_uri": "https://localhost:8080/"
        },
        "id": "z7boc86zNzTr",
        "outputId": "57b10121-9bfa-4077-abea-1b49ea19da6e"
      },
      "execution_count": null,
      "outputs": [
        {
          "output_type": "stream",
          "name": "stdout",
          "text": [
            "Digite seu nome Bart\n",
            " Não tem  Bart\n"
          ]
        }
      ]
    },
    {
      "cell_type": "code",
      "source": [
        "#Criar uma lista com números de 1 a 15\n",
        "numeros = []\n",
        "for num in range(21):\n",
        "  numeros.append(num)\n"
      ],
      "metadata": {
        "id": "_pWiwjqCTInQ"
      },
      "execution_count": null,
      "outputs": []
    },
    {
      "cell_type": "code",
      "source": [
        "numeros"
      ],
      "metadata": {
        "colab": {
          "base_uri": "https://localhost:8080/"
        },
        "id": "wYpK_d79YnrO",
        "outputId": "0884e07b-ee29-4482-db0e-6442ed95e673"
      },
      "execution_count": null,
      "outputs": [
        {
          "output_type": "execute_result",
          "data": {
            "text/plain": [
              "[0, 1, 2, 3, 4, 5, 6, 7, 8, 9, 10, 11, 12, 13, 14, 15, 16, 17, 18, 19, 20]"
            ]
          },
          "metadata": {},
          "execution_count": 106
        }
      ]
    },
    {
      "cell_type": "code",
      "source": [
        "dobro = []\n",
        "for num in numeros:\n",
        "  dobro.append(numeros[num]*2)\n",
        "dobro"
      ],
      "metadata": {
        "colab": {
          "base_uri": "https://localhost:8080/"
        },
        "id": "jKBVgvlzWZK5",
        "outputId": "304f9bf7-d3f5-49d8-eb5c-a63e82d40bbc"
      },
      "execution_count": null,
      "outputs": [
        {
          "output_type": "execute_result",
          "data": {
            "text/plain": [
              "[0, 2, 4, 6, 8, 10, 12, 14, 16, 18, 20, 22, 24, 26, 28, 30, 32, 34, 36, 38, 40]"
            ]
          },
          "metadata": {},
          "execution_count": 107
        }
      ]
    },
    {
      "cell_type": "code",
      "source": [
        "for num in numeros"
      ],
      "metadata": {
        "id": "e7pdMK4BYNof"
      },
      "execution_count": null,
      "outputs": []
    },
    {
      "cell_type": "code",
      "source": [
        "#Descobrir se um número é par\n",
        "a = 8\n",
        "if a%2 == 0:\n",
        "  print('é par')\n",
        "else:\n",
        "   print('é impar')"
      ],
      "metadata": {
        "colab": {
          "base_uri": "https://localhost:8080/"
        },
        "id": "3fFiSRB9XPgn",
        "outputId": "b54e1497-53be-43a2-d88b-ee19c81b8f2e"
      },
      "execution_count": null,
      "outputs": [
        {
          "output_type": "stream",
          "name": "stdout",
          "text": [
            "é par\n"
          ]
        }
      ]
    },
    {
      "cell_type": "code",
      "source": [
        "for num in numeros:\n",
        "  if numeros[num]%2 == 0:\n",
        "    print(numeros[num])"
      ],
      "metadata": {
        "colab": {
          "base_uri": "https://localhost:8080/"
        },
        "id": "QPVw4IYJY0_f",
        "outputId": "547b82e4-0433-47cd-905b-ee9436bd9317"
      },
      "execution_count": null,
      "outputs": [
        {
          "output_type": "stream",
          "name": "stdout",
          "text": [
            "0\n",
            "2\n",
            "4\n",
            "6\n",
            "8\n",
            "10\n",
            "12\n",
            "14\n",
            "16\n",
            "18\n",
            "20\n"
          ]
        }
      ]
    }
  ]
}