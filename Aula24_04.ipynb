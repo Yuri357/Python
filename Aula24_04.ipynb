{
  "nbformat": 4,
  "nbformat_minor": 0,
  "metadata": {
    "colab": {
      "provenance": [],
      "authorship_tag": "ABX9TyOV8naUgDEpX8RwAWBOcIkp",
      "include_colab_link": true
    },
    "kernelspec": {
      "name": "python3",
      "display_name": "Python 3"
    },
    "language_info": {
      "name": "python"
    }
  },
  "cells": [
    {
      "cell_type": "markdown",
      "metadata": {
        "id": "view-in-github",
        "colab_type": "text"
      },
      "source": [
        "<a href=\"https://colab.research.google.com/github/Yuri357/Python/blob/main/Aula24_04.ipynb\" target=\"_parent\"><img src=\"https://colab.research.google.com/assets/colab-badge.svg\" alt=\"Open In Colab\"/></a>"
      ]
    },
    {
      "cell_type": "code",
      "execution_count": null,
      "metadata": {
        "id": "Sr2jcBOyK6bG"
      },
      "outputs": [],
      "source": [
        "#1 Escreva uma função que recebe uma lista de strings e retorna:\n",
        "  ## apenas as palavras que começam com a Letra \" A \"\n",
        "  ## a quantidade de palavras encontradas. \n",
        "\n",
        "\n",
        "def listaLetraA(palavras):\n",
        "  wordA = []\n",
        "  for i in palavras:\n",
        "    if i[0] == 'a':\n",
        "      wordA.append(i)\n",
        "  print(len(wordA))    \n",
        "  return  wordA\n",
        "\n",
        "\n",
        "\n",
        "\n",
        "\n"
      ]
    },
    {
      "cell_type": "code",
      "source": [
        "animais = ['arara', 'morcego', 'macaco', 'ararinha', 'papagaio', 'albino']\n",
        "listaLetraA(animais)"
      ],
      "metadata": {
        "colab": {
          "base_uri": "https://localhost:8080/"
        },
        "id": "LZzxxcv2WrrZ",
        "outputId": "e42348ba-97d0-4541-a476-71ea18646841"
      },
      "execution_count": null,
      "outputs": [
        {
          "output_type": "stream",
          "name": "stdout",
          "text": [
            "3\n"
          ]
        },
        {
          "output_type": "execute_result",
          "data": {
            "text/plain": [
              "['arara', 'ararinha', 'albino']"
            ]
          },
          "metadata": {},
          "execution_count": 58
        }
      ]
    },
    {
      "cell_type": "code",
      "source": [
        "#2 Escreva uma função que receba uma lista de números e retorne o produto desse  números.\n",
        "def produto(nume):\n",
        "  resultado = 1\n",
        "  for num in nume:\n",
        "    resultado *= num\n",
        "  return resultado  \n",
        "\n",
        "numeroz = [2,4,8,16]\n",
        "produto(numeroz)\n",
        "\n",
        "\n",
        "\n"
      ],
      "metadata": {
        "colab": {
          "base_uri": "https://localhost:8080/"
        },
        "id": "GXf5JIMCQCAF",
        "outputId": "78e4e811-2159-4760-96b7-9a08e27b8b70"
      },
      "execution_count": 95,
      "outputs": [
        {
          "output_type": "execute_result",
          "data": {
            "text/plain": [
              "1024"
            ]
          },
          "metadata": {},
          "execution_count": 95
        }
      ]
    },
    {
      "cell_type": "code",
      "source": [],
      "metadata": {
        "id": "Cjbujei5bJ2_"
      },
      "execution_count": null,
      "outputs": []
    },
    {
      "cell_type": "code",
      "source": [
        "#3 - Esreva uma função que recebe uma lista de números e retorne a soma dos números pares.\n",
        "def somatorio(numeros):\n",
        "  soma = 0\n",
        "  for num in numeros:\n",
        "    if num % 2 == 0:\n",
        "     soma += num\n",
        "  return soma  \n",
        "\n",
        "\n",
        "\n",
        "\n"
      ],
      "metadata": {
        "id": "e-5T_jjFQJKM"
      },
      "execution_count": 96,
      "outputs": []
    },
    {
      "cell_type": "code",
      "source": [
        "somatorio(numeroz)"
      ],
      "metadata": {
        "colab": {
          "base_uri": "https://localhost:8080/"
        },
        "id": "SqCmGH7Shvuy",
        "outputId": "cfe4e65b-2803-4114-9b92-98b8b32e223d"
      },
      "execution_count": 97,
      "outputs": [
        {
          "output_type": "execute_result",
          "data": {
            "text/plain": [
              "30"
            ]
          },
          "metadata": {},
          "execution_count": 97
        }
      ]
    },
    {
      "cell_type": "code",
      "source": [
        "from re import U\n",
        "#4 - Recebe uma lista de nomes, e retorna a string com o maior número de caracteres.\n",
        "\n",
        "nomes = ['zequinha', 'anastacio', 'josefina', 'ivo', 'astofo','clodoaldoalberto']\n",
        "\n",
        "def maiorString(nomes):\n",
        "  maior = ''\n",
        "  for u in nomes:\n",
        "    if (len(u) >= len(maior)):\n",
        "      maior = u\n",
        "  return maior\n",
        "maiorString(nomes) "
      ],
      "metadata": {
        "colab": {
          "base_uri": "https://localhost:8080/",
          "height": 35
        },
        "id": "z2cbR13Fjg4D",
        "outputId": "3789b793-873a-4c37-bdb1-b2d639d597ea"
      },
      "execution_count": 128,
      "outputs": [
        {
          "output_type": "execute_result",
          "data": {
            "text/plain": [
              "'clodoaldoalberto'"
            ],
            "application/vnd.google.colaboratory.intrinsic+json": {
              "type": "string"
            }
          },
          "metadata": {},
          "execution_count": 128
        }
      ]
    },
    {
      "cell_type": "code",
      "source": [
        "#Cálculo de Fatorial:\n",
        "# O fatorial de um número é o produto dele pelos seus antecessores maiores que 0:\n",
        " ## Por exemplo, o fatorial de 6 é: 6! = 6*5*4*3*2*1.\n",
        "\n",
        "def fatorial(n):\n",
        "  if (n <= 1):\n",
        "    return 1\n",
        "  else:\n",
        "    return n * fatorial(n-1)  \n",
        "\n"
      ],
      "metadata": {
        "id": "uaOAPbVTpZse"
      },
      "execution_count": 135,
      "outputs": []
    },
    {
      "cell_type": "code",
      "source": [
        "fatorial(5)"
      ],
      "metadata": {
        "colab": {
          "base_uri": "https://localhost:8080/"
        },
        "id": "7ZiK7j2Dqben",
        "outputId": "ee0722aa-97fb-4bd4-de7f-e651fbb62be2"
      },
      "execution_count": 136,
      "outputs": [
        {
          "output_type": "execute_result",
          "data": {
            "text/plain": [
              "120"
            ]
          },
          "metadata": {},
          "execution_count": 136
        }
      ]
    }
  ]
}