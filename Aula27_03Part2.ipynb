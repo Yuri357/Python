{
  "nbformat": 4,
  "nbformat_minor": 0,
  "metadata": {
    "colab": {
      "provenance": [],
      "authorship_tag": "ABX9TyP009ynaBX2gTMFPmAQavpb",
      "include_colab_link": true
    },
    "kernelspec": {
      "name": "python3",
      "display_name": "Python 3"
    },
    "language_info": {
      "name": "python"
    }
  },
  "cells": [
    {
      "cell_type": "markdown",
      "metadata": {
        "id": "view-in-github",
        "colab_type": "text"
      },
      "source": [
        "<a href=\"https://colab.research.google.com/github/Yuri357/Python/blob/main/Aula27_03Part2.ipynb\" target=\"_parent\"><img src=\"https://colab.research.google.com/assets/colab-badge.svg\" alt=\"Open In Colab\"/></a>"
      ]
    },
    {
      "cell_type": "code",
      "execution_count": null,
      "metadata": {
        "id": "o89OESWFKCS9"
      },
      "outputs": [],
      "source": [
        "Nomes = ['Claudete', 'juse', 'muriel']"
      ]
    },
    {
      "cell_type": "code",
      "source": [
        "Nome = (input(' Insira um nome'))\n",
        "Nomes.append(Nome)\n",
        "Nomes"
      ],
      "metadata": {
        "colab": {
          "base_uri": "https://localhost:8080/"
        },
        "id": "E69uatcNKFgd",
        "outputId": "a4eea68f-730f-4eec-c106-5a31e1ea9ee7"
      },
      "execution_count": null,
      "outputs": [
        {
          "name": "stdout",
          "output_type": "stream",
          "text": [
            " Insira um nomeNicolas\n"
          ]
        },
        {
          "output_type": "execute_result",
          "data": {
            "text/plain": [
              "['Claudete', 'juse', 'muriel', 'Nicolas']"
            ]
          },
          "metadata": {},
          "execution_count": 2
        }
      ]
    },
    {
      "cell_type": "code",
      "source": [
        "notas = [4,6,8,9,6,877,685,]"
      ],
      "metadata": {
        "id": "lKc_21IVKl5b"
      },
      "execution_count": null,
      "outputs": []
    },
    {
      "cell_type": "code",
      "source": [
        "for nota in notas:\n",
        "  if (nota >= 7):\n",
        "    print(nota)"
      ],
      "metadata": {
        "colab": {
          "base_uri": "https://localhost:8080/"
        },
        "id": "tSpkp-CkKxz7",
        "outputId": "56f2ea37-f577-41c0-9a63-5134ebe1da7e"
      },
      "execution_count": null,
      "outputs": [
        {
          "output_type": "stream",
          "name": "stdout",
          "text": [
            "8\n",
            "877\n",
            "685\n"
          ]
        }
      ]
    },
    {
      "cell_type": "code",
      "source": [
        "aprovados = 0\n",
        "reprovados = 0\n",
        "for nota in notas:\n",
        "  if(nota>=7):\n",
        "    aprovados += 1\n",
        "  else:\n",
        "      reprovados+= 1\n",
        "      \n",
        "print('Aprovados: ', aprovados)\n",
        "print('Reprovados: ', reprovados)      "
      ],
      "metadata": {
        "colab": {
          "base_uri": "https://localhost:8080/"
        },
        "id": "RYcNYPNWLdCK",
        "outputId": "d4c218dc-82d9-46c1-9cf1-7c5c365bf2fc"
      },
      "execution_count": null,
      "outputs": [
        {
          "output_type": "stream",
          "name": "stdout",
          "text": [
            "Aprovados:  4\n",
            "Reprovados:  3\n"
          ]
        }
      ]
    },
    {
      "cell_type": "code",
      "source": [
        "#Criar um programa que lista os números de 1 a 10\n",
        "#para isto, precisaremos de um contador\n",
        "#While = enquanto\n",
        "cont = 1\n",
        "numeros = []\n",
        "\n",
        "while (cont <= 10):\n",
        " numeros.append(cont)\n",
        " cont +=1\n",
        "\n",
        "numeros"
      ],
      "metadata": {
        "colab": {
          "base_uri": "https://localhost:8080/"
        },
        "id": "54TmHqVhQvoO",
        "outputId": "a5a53fba-c596-40b1-b754-c46ea3f31207"
      },
      "execution_count": null,
      "outputs": [
        {
          "output_type": "execute_result",
          "data": {
            "text/plain": [
              "[1, 2, 3, 4, 5, 6, 7, 8, 9, 10]"
            ]
          },
          "metadata": {},
          "execution_count": 14
        }
      ]
    },
    {
      "cell_type": "code",
      "source": [
        "#Modifique o código anterior, para solicitar um tamanho de lista\n",
        "#X e, com laço while, crie a nova lista, do tamanho desejado\n",
        "\n",
        "\n",
        "cont = 1\n",
        "numeros = []\n",
        "lista = int(input(' Insira o tamanho da lista '))\n",
        "\n",
        "while (cont <= lista):\n",
        "  numeros.append(cont)\n",
        "  cont += 1\n",
        "  \n",
        "numeros\n",
        "\n"
      ],
      "metadata": {
        "colab": {
          "base_uri": "https://localhost:8080/"
        },
        "id": "35McErRiSUUE",
        "outputId": "5377135b-5a82-41b6-f8c0-38e3bfc75661"
      },
      "execution_count": null,
      "outputs": [
        {
          "name": "stdout",
          "output_type": "stream",
          "text": [
            " Insira o tamanho da lista 5\n"
          ]
        },
        {
          "output_type": "execute_result",
          "data": {
            "text/plain": [
              "[1, 2, 3, 4, 5]"
            ]
          },
          "metadata": {},
          "execution_count": 21
        }
      ]
    },
    {
      "cell_type": "code",
      "source": [
        "#Inserir o nome de cidades.\n",
        "#O laço encerra, quando digitar 0\n",
        "\n",
        "cidades = []\n",
        "\n",
        "city = input('Digita a ciade ae morawl: ')\n",
        "\n",
        "while(city != \"Acabou\"):\n",
        "  cidades.append(city)\n",
        "  city = input('Digite a cidade moral: ')\n",
        "\n",
        "cidades\n",
        "\n",
        "\n"
      ],
      "metadata": {
        "colab": {
          "base_uri": "https://localhost:8080/"
        },
        "id": "SLU7Xa0VUr_J",
        "outputId": "b4a96693-d915-4f87-be6a-05918c3847f0"
      },
      "execution_count": null,
      "outputs": [
        {
          "name": "stdout",
          "output_type": "stream",
          "text": [
            "Digita a ciade ae morawl: São Paulo\n",
            "Digite a cidade moral: Acabou\n"
          ]
        },
        {
          "output_type": "execute_result",
          "data": {
            "text/plain": [
              "['São Paulo']"
            ]
          },
          "metadata": {},
          "execution_count": 29
        }
      ]
    },
    {
      "cell_type": "code",
      "source": [
        "cidades = []\n",
        "\n",
        "city = input('Digita a ciade ae morawl: ')\n",
        "\n",
        "while(city != \"Acabou\"):\n",
        "  cidades.append(city)\n",
        "  city = input('Digite a cidade moral: ')\n",
        "\n",
        "cidades"
      ],
      "metadata": {
        "colab": {
          "base_uri": "https://localhost:8080/"
        },
        "id": "dYKglGhSX878",
        "outputId": "cb2f2351-1689-426d-972d-785c783b6d77"
      },
      "execution_count": null,
      "outputs": [
        {
          "output_type": "stream",
          "name": "stdout",
          "text": [
            "Digita o numero aew5\n",
            "é par\n"
          ]
        }
      ]
    },
    {
      "cell_type": "code",
      "source": [
        "#Nuimero Par ou Impar\n",
        "\n",
        "num = int(input('Digite um nuimero: '))\n",
        "\n",
        "while(num >=0):\n",
        "  if(num % 2 == 0):\n",
        "    print('É par')\n",
        "    num = int(input('Digite um nuimero: '))\n",
        "  else:\n",
        "    print('É impar ')\n",
        "    num = int(input('Digite um nuimero: '))\n",
        "\n",
        "print ('Digitou errado ai maliuco5')"
      ],
      "metadata": {
        "colab": {
          "base_uri": "https://localhost:8080/"
        },
        "id": "EVQXdqNWY-NX",
        "outputId": "7253ae3c-b8ec-4b14-f3e6-631719e7487d"
      },
      "execution_count": null,
      "outputs": [
        {
          "output_type": "stream",
          "name": "stdout",
          "text": [
            "Digite um nuimero: 5\n",
            "É impar \n",
            "Digite um nuimero: 97\n",
            "É impar \n",
            "Digite um nuimero: 6\n",
            "É par\n",
            "Digite um nuimero: -5\n",
            "Digitou errado ai maliuco\n"
          ]
        }
      ]
    }
  ]
}