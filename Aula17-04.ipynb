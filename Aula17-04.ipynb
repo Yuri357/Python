{
  "nbformat": 4,
  "nbformat_minor": 0,
  "metadata": {
    "colab": {
      "provenance": [],
      "authorship_tag": "ABX9TyMAN1iFXlvT2MVzHJvJBOhE",
      "include_colab_link": true
    },
    "kernelspec": {
      "name": "python3",
      "display_name": "Python 3"
    },
    "language_info": {
      "name": "python"
    }
  },
  "cells": [
    {
      "cell_type": "markdown",
      "metadata": {
        "id": "view-in-github",
        "colab_type": "text"
      },
      "source": [
        "<a href=\"https://colab.research.google.com/github/Yuri357/Python/blob/main/Aula17-04.ipynb\" target=\"_parent\"><img src=\"https://colab.research.google.com/assets/colab-badge.svg\" alt=\"Open In Colab\"/></a>"
      ]
    },
    {
      "cell_type": "code",
      "source": [
        "a = float(input('nota 1: '))\n",
        "b = float(input('nota 2: '))\n",
        "c = float(input('nota 3: '))"
      ],
      "metadata": {
        "colab": {
          "base_uri": "https://localhost:8080/"
        },
        "id": "pR-Ntb-fNKG0",
        "outputId": "821f2962-e164-441d-fd59-18f0783a4fda"
      },
      "execution_count": 16,
      "outputs": [
        {
          "name": "stdout",
          "output_type": "stream",
          "text": [
            "nota 1: 10\n",
            "nota 2: 10\n",
            "nota 3: 10\n"
          ]
        }
      ]
    },
    {
      "cell_type": "code",
      "source": [
        "media = a+b+c/3\n",
        "print('A media é:', media)"
      ],
      "metadata": {
        "colab": {
          "base_uri": "https://localhost:8080/"
        },
        "id": "UuuN86WVNVd0",
        "outputId": "ea05b272-7ca7-45b5-c45e-b0972f88fe95"
      },
      "execution_count": 19,
      "outputs": [
        {
          "output_type": "stream",
          "name": "stdout",
          "text": [
            "A media é: 23.333333333333332\n"
          ]
        }
      ]
    },
    {
      "cell_type": "code",
      "execution_count": 27,
      "metadata": {
        "id": "L9ui7X6KI_Ob"
      },
      "outputs": [],
      "source": [
        "#Argumentos arbitrários *args\n",
        "#Quando não se tem certeza quantos argumentos são passados pela função\n",
        "\n",
        "\n",
        "def mediaTotal(*notas):\n",
        "  soma = 0\n",
        "  for nota in notas:\n",
        "    soma += nota\n",
        "  media = soma/len(notas)\n",
        "  return media  "
      ]
    },
    {
      "cell_type": "code",
      "source": [
        "mediaTotal(4,8,9,8,7,8,9,5,6,5,4,7,8,9,8,3)"
      ],
      "metadata": {
        "colab": {
          "base_uri": "https://localhost:8080/"
        },
        "id": "oo1nPjWFOmVc",
        "outputId": "d21b1e89-7743-423d-8916-2f45181ac53d"
      },
      "execution_count": 25,
      "outputs": [
        {
          "output_type": "stream",
          "name": "stdout",
          "text": [
            "A media é:  6.75\n"
          ]
        }
      ]
    },
    {
      "cell_type": "code",
      "source": [
        "#Recebe vários numeros e retorna o maior.\n",
        "\n",
        "def retornaMaior(*numeros):\n",
        "  maior = 0\n",
        "  for n in numeros:\n",
        "    if(n >= maior):\n",
        "      maior = n\n",
        "  return maior"
      ],
      "metadata": {
        "id": "2ShucNIrPZAJ"
      },
      "execution_count": 40,
      "outputs": []
    },
    {
      "cell_type": "code",
      "source": [
        "retornaMaior(2, 5, 17, 3, 23, 5, 50)"
      ],
      "metadata": {
        "colab": {
          "base_uri": "https://localhost:8080/"
        },
        "id": "awmv6jM3a_iz",
        "outputId": "b42b954d-20bf-4260-ce10-6a83e756f884"
      },
      "execution_count": 42,
      "outputs": [
        {
          "output_type": "execute_result",
          "data": {
            "text/plain": [
              "50"
            ]
          },
          "metadata": {},
          "execution_count": 42
        }
      ]
    },
    {
      "cell_type": "code",
      "source": [
        "def nacionalidade(country = 'Cuba '):\n",
        "  print ('Eu nasci em: '+ country)"
      ],
      "metadata": {
        "id": "ti75QxplcpHA"
      },
      "execution_count": 46,
      "outputs": []
    },
    {
      "cell_type": "code",
      "source": [
        "nacionalidade('Brasil')\n",
        "nacionalidade('França')\n",
        "nacionalidade('Vietnã')\n",
        "nacionalidade()"
      ],
      "metadata": {
        "colab": {
          "base_uri": "https://localhost:8080/"
        },
        "id": "_DHnKCxefLgg",
        "outputId": "20316f2d-0201-49e1-f2d9-7fc71d658765"
      },
      "execution_count": 47,
      "outputs": [
        {
          "output_type": "stream",
          "name": "stdout",
          "text": [
            "Eu nasci em: Brasil\n",
            "Eu nasci em: França\n",
            "Eu nasci em: Vietnã\n",
            "Eu nasci em: Cuba \n"
          ]
        }
      ]
    },
    {
      "cell_type": "code",
      "source": [
        "#1 Escreva uma função que recebe dois parâmetros numéricos e\n",
        "#retorna a soma desses números.\n",
        "\n",
        "def doisNumeros(a,b):\n",
        "  return a + b\n",
        "\n",
        "\n",
        "\n",
        "\n"
      ],
      "metadata": {
        "id": "JumVvdgAe71J"
      },
      "execution_count": 49,
      "outputs": []
    },
    {
      "cell_type": "code",
      "source": [
        "#2 Escreva uma função que recebe um número e \n",
        "#retorna o seu valor absoluto.\n",
        "\n",
        "def valorAbsoluto(num):\n",
        "  if(num < 0):\n",
        "    num = num * -1\n",
        "  return num"
      ],
      "metadata": {
        "id": "4COc6dQuiNIJ"
      },
      "execution_count": 53,
      "outputs": []
    },
    {
      "cell_type": "code",
      "source": [
        "valorAbsoluto(15)"
      ],
      "metadata": {
        "colab": {
          "base_uri": "https://localhost:8080/"
        },
        "id": "E_gUwSA6i-lS",
        "outputId": "529b9dcc-01a0-4db4-b4ee-b680aecc497a"
      },
      "execution_count": 60,
      "outputs": [
        {
          "output_type": "execute_result",
          "data": {
            "text/plain": [
              "15"
            ]
          },
          "metadata": {},
          "execution_count": 60
        }
      ]
    },
    {
      "cell_type": "code",
      "source": [
        "#3 Escreva uma função que recebe lista de números e\n",
        "#retorna o maior número da lsita.\n"
      ],
      "metadata": {
        "id": "OvcZ0-1YiPUI"
      },
      "execution_count": null,
      "outputs": []
    },
    {
      "cell_type": "code",
      "source": [
        "#4 Escreva uma função que recebe uma lista de palavras e\n",
        "#retorna uma lista com as palavras que possuem mais de três letras.\n",
        "def maiorque3(lista):\n",
        "  novaLista = []\n",
        "  for item in lista:\n",
        "    if(len(item) > 3):\n",
        "      novaLista.append(item)\n",
        "  return novaLista"
      ],
      "metadata": {
        "id": "-M2UVwdDiSKQ"
      },
      "execution_count": 75,
      "outputs": []
    },
    {
      "cell_type": "code",
      "source": [
        "frutas = ['mangaba', 'uva', 'pinha']\n",
        "maiorque3(frutas)"
      ],
      "metadata": {
        "colab": {
          "base_uri": "https://localhost:8080/"
        },
        "id": "CWPEG3JSkoFI",
        "outputId": "c675a32f-23d0-458a-e6dd-59c7248cfc2a"
      },
      "execution_count": 76,
      "outputs": [
        {
          "output_type": "execute_result",
          "data": {
            "text/plain": [
              "['mangaba', 'pinha']"
            ]
          },
          "metadata": {},
          "execution_count": 76
        }
      ]
    }
  ]
}